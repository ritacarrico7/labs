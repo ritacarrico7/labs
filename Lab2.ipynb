{
 "cells": [
  {
   "cell_type": "code",
   "execution_count": 15,
   "metadata": {},
   "outputs": [
    {
     "name": "stdout",
     "output_type": "stream",
     "text": [
      "['potatoes', 'carrots', 'cod', 'sprouts']\n"
     ]
    }
   ],
   "source": [
    "#Construct a list (shoppingList) including 'potatoes', 'carrots', 'cod' and 'sprouts’\n",
    "\n",
    "shoppingList = list((\"potatoes\", \"carrots\", \"cod\", \"sprouts\"))\n",
    "print (shoppingList)"
   ]
  },
  {
   "cell_type": "code",
   "execution_count": 16,
   "metadata": {},
   "outputs": [
    {
     "data": {
      "text/plain": [
       "'carrots'"
      ]
     },
     "execution_count": 16,
     "metadata": {},
     "output_type": "execute_result"
    }
   ],
   "source": [
    "# Get the second and the last element of the list\n",
    "\n",
    "shoppingList [1]\n"
   ]
  },
  {
   "cell_type": "code",
   "execution_count": 17,
   "metadata": {},
   "outputs": [
    {
     "data": {
      "text/plain": [
       "'sprouts'"
      ]
     },
     "execution_count": 17,
     "metadata": {},
     "output_type": "execute_result"
    }
   ],
   "source": [
    "# Get the second and the last element of the list\n",
    "\n",
    "shoppingList [-1]"
   ]
  },
  {
   "cell_type": "code",
   "execution_count": 18,
   "metadata": {},
   "outputs": [
    {
     "name": "stdout",
     "output_type": "stream",
     "text": [
      "potatoes\n",
      "carrots\n",
      "cod\n",
      "sprouts\n"
     ]
    }
   ],
   "source": [
    "# Iterate though the list\n",
    "\n",
    "for purchase in shoppingList:print(purchase)"
   ]
  },
  {
   "cell_type": "code",
   "execution_count": 19,
   "metadata": {},
   "outputs": [
    {
     "name": "stdout",
     "output_type": "stream",
     "text": [
      "[]\n"
     ]
    }
   ],
   "source": [
    "#Create a new list (studentList)\n",
    "\n",
    "studentList = [] \n",
    "print (studentList)"
   ]
  },
  {
   "cell_type": "code",
   "execution_count": 20,
   "metadata": {},
   "outputs": [
    {
     "name": "stdout",
     "output_type": "stream",
     "text": [
      "['potatoes', 'carrots', 'cod', 'sprouts', 'orange', 'lime']\n"
     ]
    }
   ],
   "source": [
    "# Add the follwoing elements to the shoppingList: orange and lime\n",
    "\n",
    "shoppingList.append  ('orange')\n",
    "shoppingList.append ('lime')\n",
    "print(shoppingList)"
   ]
  },
  {
   "cell_type": "code",
   "execution_count": 22,
   "metadata": {},
   "outputs": [],
   "source": [
    "#Remove the carrots, the first element and last element of the shoppingList list\n",
    "\n",
    "shoppingList.remove ('carrots')\n",
    "del shoppingList [0]\n",
    "del shoppingList[-1]"
   ]
  },
  {
   "cell_type": "code",
   "execution_count": 29,
   "metadata": {},
   "outputs": [
    {
     "data": {
      "text/plain": [
       "<function list.clear()>"
      ]
     },
     "execution_count": 29,
     "metadata": {},
     "output_type": "execute_result"
    }
   ],
   "source": [
    "#Delete the film list\n",
    "\n",
    "shoppingList.clear"
   ]
  },
  {
   "cell_type": "code",
   "execution_count": 29,
   "metadata": {},
   "outputs": [
    {
     "name": "stdout",
     "output_type": "stream",
     "text": [
      "[2, 4, 6, 8, 10, 12, 14, 16, 18, 20, 22, 24, 26, 28]\n"
     ]
    }
   ],
   "source": [
    "# Create a list with the double values os number between 1 and 15.\n",
    "\n",
    "doubles=[2*x for x in range (1,15)]\n",
    "print (doubles)\n"
   ]
  },
  {
   "cell_type": "code",
   "execution_count": 30,
   "metadata": {},
   "outputs": [
    {
     "name": "stdout",
     "output_type": "stream",
     "text": [
      "['cod', 'sprouts', 'orange']\n"
     ]
    }
   ],
   "source": [
    "# Obtain the first 3 elements of the list\n",
    "\n",
    "first3 =shoppingList [:3]\n",
    "print(first3)"
   ]
  },
  {
   "cell_type": "code",
   "execution_count": 31,
   "metadata": {},
   "outputs": [
    {
     "name": "stdout",
     "output_type": "stream",
     "text": [
      "['cod', 'sprouts', 'orange']\n"
     ]
    }
   ],
   "source": [
    "# What is the result of,?\n",
    "\n",
    "shopping = shoppingList\n",
    "shoppingListCopy = shoppingList[:]\n",
    "print(shopping)\n"
   ]
  },
  {
   "cell_type": "code",
   "execution_count": 32,
   "metadata": {},
   "outputs": [
    {
     "name": "stdout",
     "output_type": "stream",
     "text": [
      "['cod', 'sprouts', 'orange', 'orange']\n"
     ]
    }
   ],
   "source": [
    "# What is the result of\n",
    "\n",
    "shopping = shoppingList\n",
    "shoppingList.append(\"orange\")\n",
    "print(shopping)\n"
   ]
  },
  {
   "cell_type": "code",
   "execution_count": 33,
   "metadata": {},
   "outputs": [],
   "source": [
    "#Remove all the items from the shoppingList\n",
    "\n",
    "del shoppingList\n"
   ]
  },
  {
   "cell_type": "code",
   "execution_count": 34,
   "metadata": {},
   "outputs": [
    {
     "name": "stdout",
     "output_type": "stream",
     "text": [
      "beans\n"
     ]
    },
    {
     "ename": "TypeError",
     "evalue": "'tuple' object does not support item assignment",
     "output_type": "error",
     "traceback": [
      "\u001b[1;31m---------------------------------------------------------------------------\u001b[0m",
      "\u001b[1;31mTypeError\u001b[0m                                 Traceback (most recent call last)",
      "\u001b[1;32m<ipython-input-34-042d440610a7>\u001b[0m in \u001b[0;36m<module>\u001b[1;34m\u001b[0m\n\u001b[0;32m      3\u001b[0m \u001b[0mnewPurchases\u001b[0m\u001b[1;33m=\u001b[0m \u001b[1;33m(\u001b[0m\u001b[1;34m\"bananas\"\u001b[0m\u001b[1;33m,\u001b[0m \u001b[1;34m\"beans\"\u001b[0m\u001b[1;33m,\u001b[0m \u001b[1;34m\"rice\"\u001b[0m\u001b[1;33m)\u001b[0m\u001b[1;33m\u001b[0m\u001b[1;33m\u001b[0m\u001b[0m\n\u001b[0;32m      4\u001b[0m \u001b[0mprint\u001b[0m \u001b[1;33m(\u001b[0m\u001b[0mnewPurchases\u001b[0m \u001b[1;33m[\u001b[0m\u001b[1;36m1\u001b[0m\u001b[1;33m]\u001b[0m\u001b[1;33m)\u001b[0m\u001b[1;33m\u001b[0m\u001b[1;33m\u001b[0m\u001b[0m\n\u001b[1;32m----> 5\u001b[1;33m \u001b[0mnewPurchases\u001b[0m \u001b[1;33m[\u001b[0m\u001b[1;36m0\u001b[0m\u001b[1;33m]\u001b[0m \u001b[1;33m=\u001b[0m \u001b[1;34m\"apple\"\u001b[0m\u001b[1;33m\u001b[0m\u001b[1;33m\u001b[0m\u001b[0m\n\u001b[0m",
      "\u001b[1;31mTypeError\u001b[0m: 'tuple' object does not support item assignment"
     ]
    }
   ],
   "source": [
    "# What is the result of\n",
    "\n",
    "newPurchases= (\"bananas\", \"beans\", \"rice\")\n",
    "print (newPurchases [1])\n",
    "newPurchases [0] = \"apple\"\n"
   ]
  },
  {
   "cell_type": "code",
   "execution_count": 46,
   "metadata": {},
   "outputs": [
    {
     "name": "stdout",
     "output_type": "stream",
     "text": [
      "The fruit 1 is orange\n",
      "The fruit 2 is apple\n",
      "The fruit 3 is pear\n",
      "The fruit 4 is grape\n",
      "The fruit 5 is peach\n"
     ]
    }
   ],
   "source": [
    "# Create a dictionary including the follwoing elements: orange, apple, pear, grape and peach. Key are 1 to 5.\n",
    "#Iterate through key-value pair.\n",
    "\n",
    "fruit={1:'orange', 2:'apple', 3:'pear', 4:'grape',5:'peach'}\n",
    "\n",
    "for key,  value in fruit.items():\n",
    "    print ('The fruit'+' '+str(key)+''+' is'+' '+ value)\n"
   ]
  },
  {
   "cell_type": "code",
   "execution_count": 49,
   "metadata": {},
   "outputs": [
    {
     "name": "stdout",
     "output_type": "stream",
     "text": [
      "[['carrots', 'banana', 'beans'], ['rice', 'pasta'], ['peach', 'apple'], ['potatoes', 'orange'], ['beer', 'chicken']]\n"
     ]
    }
   ],
   "source": [
    "# Create a weekList that is composed of several lists, each one corresponding to a day.\n",
    "\n",
    "shoppingList=[]\n",
    "\n",
    "mondayshoppingList=['carrots', 'banana', 'beans']\n",
    "tuesdayshoppingList=['rice', 'pasta']\n",
    "weddnesdayshoppingList=['peach','apple']\n",
    "thrusdayshoppingList=['potatoes','orange']\n",
    "fridayshoppingList=['beer', 'chicken']\n",
    "\n",
    "shoppingList.append(mondayshoppingList)\n",
    "shoppingList.append(tuesdayshoppingList)\n",
    "shoppingList.append(weddnesdayshoppingList)\n",
    "shoppingList.append(thrusdayshoppingList)\n",
    "shoppingList.append(fridayshoppingList)\n",
    "\n",
    "print(shoppingList)"
   ]
  },
  {
   "cell_type": "code",
   "execution_count": null,
   "metadata": {},
   "outputs": [],
   "source": []
  }
 ],
 "metadata": {
  "kernelspec": {
   "display_name": "Python 3",
   "language": "python",
   "name": "python3"
  },
  "language_info": {
   "codemirror_mode": {
    "name": "ipython",
    "version": 3
   },
   "file_extension": ".py",
   "mimetype": "text/x-python",
   "name": "python",
   "nbconvert_exporter": "python",
   "pygments_lexer": "ipython3",
   "version": "3.7.3"
  }
 },
 "nbformat": 4,
 "nbformat_minor": 2
}
