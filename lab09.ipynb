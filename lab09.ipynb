{
 "cells": [
  {
   "cell_type": "code",
   "execution_count": 3,
   "metadata": {},
   "outputs": [
    {
     "name": "stdout",
     "output_type": "stream",
     "text": [
      "Player 1: Type 0 for Cooperate, and 1 for Not Cooperating: 0\n",
      "Player 2: Type 0 for Cooperate, and 1 for Not Cooperating: 1\n"
     ]
    },
    {
     "data": {
      "text/plain": [
       "(0, 3)"
      ]
     },
     "execution_count": 3,
     "metadata": {},
     "output_type": "execute_result"
    }
   ],
   "source": [
    "# 1\n",
    "\n",
    "def PayOff():\n",
    "    player1 = input(\"Player 1: Type 0 for Cooperate, and 1 for Not Cooperating: \")\n",
    "    player2 = input(\"Player 2: Type 0 for Cooperate, and 1 for Not Cooperating: \")\n",
    "    if int(player1) == 0 and int(player2) == 0:\n",
    "        payoff = (2, 2)\n",
    "    elif int(player1) == 0 and int(player2) == 1:\n",
    "        payoff = (0,3)\n",
    "    elif int(player1) == 1 and int(player2) == 0:\n",
    "        payoff = (3, 0)\n",
    "    else:\n",
    "        payoff = (1, 1)\n",
    "    return payoff\n",
    "\n",
    "PayOff()"
   ]
  },
  {
   "cell_type": "code",
   "execution_count": 12,
   "metadata": {},
   "outputs": [
    {
     "data": {
      "text/plain": [
       "(1, 1)"
      ]
     },
     "execution_count": 12,
     "metadata": {},
     "output_type": "execute_result"
    }
   ],
   "source": [
    "# 1 (other solution)\n",
    "\n",
    "PayoffList = [[(2 ,2), (0, 3)], [(3, 0), (1, 1)]]\n",
    "\n",
    "def payoff(player1, player2):\n",
    "    a = PayoffList[player1][player2]\n",
    "    return a\n",
    "\n",
    "payoff(1, 1)"
   ]
  },
  {
   "cell_type": "code",
   "execution_count": 13,
   "metadata": {},
   "outputs": [
    {
     "data": {
      "text/plain": [
       "(2, 2)"
      ]
     },
     "execution_count": 13,
     "metadata": {},
     "output_type": "execute_result"
    }
   ],
   "source": [
    "payoff(0, 0)"
   ]
  },
  {
   "cell_type": "code",
   "execution_count": 14,
   "metadata": {},
   "outputs": [
    {
     "data": {
      "text/plain": [
       "(3, 0)"
      ]
     },
     "execution_count": 14,
     "metadata": {},
     "output_type": "execute_result"
    }
   ],
   "source": [
    "payoff(1, 0)"
   ]
  },
  {
   "cell_type": "code",
   "execution_count": 15,
   "metadata": {},
   "outputs": [
    {
     "data": {
      "text/plain": [
       "(0, 3)"
      ]
     },
     "execution_count": 15,
     "metadata": {},
     "output_type": "execute_result"
    }
   ],
   "source": [
    "payoff(0, 1)"
   ]
  },
  {
   "cell_type": "code",
   "execution_count": null,
   "metadata": {},
   "outputs": [],
   "source": []
  }
 ],
 "metadata": {
  "kernelspec": {
   "display_name": "Python 3",
   "language": "python",
   "name": "python3"
  },
  "language_info": {
   "codemirror_mode": {
    "name": "ipython",
    "version": 3
   },
   "file_extension": ".py",
   "mimetype": "text/x-python",
   "name": "python",
   "nbconvert_exporter": "python",
   "pygments_lexer": "ipython3",
   "version": "3.7.3"
  }
 },
 "nbformat": 4,
 "nbformat_minor": 2
}
