{
 "cells": [
  {
   "cell_type": "markdown",
   "metadata": {},
   "source": [
    "# Lab 8 \n",
    "\n",
    "A simple chatbot\n",
    "\n",
    "**1.** Create a function that asks the user his name and says Hello, John Doe\n",
    "\n",
    "**2.** Create a function called chat that ask the user what is his problem and will answer \"yes of course\"\n",
    "\n",
    "**3.** Create a function called chat that ask the user what is his problem and will answer randomly among 6 possible answers\n",
    "\n",
    "**4.** Put all together and improve\n"
   ]
  },
  {
   "cell_type": "markdown",
   "metadata": {},
   "source": [
    "**1.** Create a function that ask the user his name and says Hello, John Doe"
   ]
  },
  {
   "cell_type": "code",
   "execution_count": 2,
   "metadata": {},
   "outputs": [
    {
     "name": "stdout",
     "output_type": "stream",
     "text": [
      "Computer: Hi! What is your name?\n",
      "User: \n",
      "Computer: Hi! What is your name?\n",
      "User: \n",
      "Computer: Hi! What is your name?\n",
      "User: oo\n",
      "Computer: Hello, oo!\n"
     ]
    }
   ],
   "source": [
    "# Create a function that ask the user his name and says Hello, John Doe\n",
    "\n",
    "def ask():\n",
    "    msg = \"\"\n",
    "    msg1 = \"\"\n",
    "    while msg == \"\":\n",
    "        msg1 = \"Computer: Hi! What is your name?\"\n",
    "        print(msg1)\n",
    "        msg = input(\"User: \")\n",
    "    answer = \"Computer: Hello, \" + msg + \"!\"\n",
    "    print(answer)\n",
    "\n",
    "ask()"
   ]
  },
  {
   "cell_type": "code",
   "execution_count": 4,
   "metadata": {},
   "outputs": [
    {
     "name": "stdout",
     "output_type": "stream",
     "text": [
      "What is your name? \n",
      "What is your name? oo\n"
     ]
    },
    {
     "data": {
      "text/plain": [
       "'Nice to meet you,  oo'"
      ]
     },
     "execution_count": 4,
     "metadata": {},
     "output_type": "execute_result"
    }
   ],
   "source": [
    "# Class version\n",
    "\n",
    "def chat (question, answer):\n",
    "    msg = \"\"\n",
    "    while msg == \"\":\n",
    "        msg = input(question)\n",
    "    return str(answer) + \" \" + str(msg)\n",
    "\n",
    "chat(\"What is your name? \", \"Nice to meet you, \")"
   ]
  },
  {
   "cell_type": "markdown",
   "metadata": {},
   "source": [
    "\n",
    "**2.** Create a function called chat that ask the user what is his problem and will answer \"yes of course\""
   ]
  },
  {
   "cell_type": "code",
   "execution_count": 5,
   "metadata": {},
   "outputs": [
    {
     "name": "stdout",
     "output_type": "stream",
     "text": [
      "Computer: What is your problem?\n",
      "User: \n",
      "Computer: What is your problem?\n",
      "User: 00\n",
      "Computer: Yes, of course.\n"
     ]
    }
   ],
   "source": [
    "# Create a function called chat that ask the user what is his problem and will answer \"yes of course\"\n",
    "def chat():\n",
    "    msg = \"\"\n",
    "    msg1 = \"\"\n",
    "    while msg == \"\":\n",
    "        msg1 = \"Computer: What is your problem?\"\n",
    "        print(msg1)\n",
    "        msg = input(\"User: \")\n",
    "    answer = \"Computer: Yes, of course.\"\n",
    "    print(answer)\n",
    "\n",
    "chat()"
   ]
  },
  {
   "cell_type": "code",
   "execution_count": 7,
   "metadata": {},
   "outputs": [
    {
     "name": "stdout",
     "output_type": "stream",
     "text": [
      "What is your problem? \n",
      "Yes, of course!\n",
      "What is your problem? bye\n",
      "Yes, of course!\n"
     ]
    }
   ],
   "source": [
    "# Class Version\n",
    "\n",
    "def chat():\n",
    "    problem = \"\"\n",
    "    while problem != \"bye\":\n",
    "        problem = input (\"What is your problem? \")\n",
    "        print(\"Yes, of course!\")\n",
    "        \n",
    "chat()"
   ]
  },
  {
   "cell_type": "markdown",
   "metadata": {},
   "source": [
    "**3.** Create a function called chat that ask the user what is his problem and will answer randomly among 6 possible answers"
   ]
  },
  {
   "cell_type": "code",
   "execution_count": null,
   "metadata": {},
   "outputs": [],
   "source": [
    "# Create a function called chat that ask the user what is his problem and will answer randomly among 6 possible answers\n",
    "# When it runs, it always prints the last item of the list, but it is suppose to print randomly the items of the list\n",
    "import random\n",
    "def chat():\n",
    "    msg = \"\"\n",
    "    msg1 = \"\"\n",
    "    while msg == \"\":\n",
    "        msg1 = \"Computer: What is your problem?\"\n",
    "        print(msg1)\n",
    "        msg = input(\"User: \")\n",
    "    x = [\"Oh no!\", \"Yes, of course.\", \"Ok.\", \"Now that you know the problem, try to solve it.\", \"Yes, that's a challenge.\", \"Good luck with that!\"]\n",
    "    answer = \"Computer: \" + random.choice(x)\n",
    "    print(answer)\n",
    "\n",
    "chat()"
   ]
  },
  {
   "cell_type": "code",
   "execution_count": null,
   "metadata": {},
   "outputs": [],
   "source": [
    "# Class Version"
   ]
  },
  {
   "cell_type": "markdown",
   "metadata": {},
   "source": [
    "**4.** Put all together and improve"
   ]
  },
  {
   "cell_type": "code",
   "execution_count": null,
   "metadata": {},
   "outputs": [],
   "source": [
    "import random\n",
    "\n",
    "def ask():\n",
    "    msg = \"\"\n",
    "    msg1 = \"\"\n",
    "    while msg == \"\":\n",
    "        msg1 = \"Computer: Hi! What is your name?\"\n",
    "        print(msg1)\n",
    "        msg = input(\"User: \")\n",
    "    answer = \"Computer: Hello, \" + msg + \"!\"\n",
    "    print(answer)\n",
    "\n",
    "def chat():\n",
    "    msg2 = \"\"\n",
    "    msg3 = \"\"\n",
    "    while msg2 == \"\":\n",
    "        msg3 = \"Computer: What is your problem?\"\n",
    "        print(msg3)\n",
    "        msg2 = input(\"User: \")\n",
    "    x = [\"Oh no!\", \"Yes, of course.\", \"Ok.\", \"Now that you know the problem, try to solve it.\", \"Yes, that's a challenge.\", \"Good luck with that!\"]\n",
    "    answer = \"Computer: \" + random.choice(x)\n",
    "    print(answer)\n",
    "\n",
    "ask()\n",
    "chat()\n"
   ]
  },
  {
   "cell_type": "code",
   "execution_count": null,
   "metadata": {},
   "outputs": [],
   "source": [
    "# Class Version"
   ]
  }
 ],
 "metadata": {
  "kernelspec": {
   "display_name": "Python 3",
   "language": "python",
   "name": "python3"
  },
  "language_info": {
   "codemirror_mode": {
    "name": "ipython",
    "version": 3
   },
   "file_extension": ".py",
   "mimetype": "text/x-python",
   "name": "python",
   "nbconvert_exporter": "python",
   "pygments_lexer": "ipython3",
   "version": "3.7.3"
  }
 },
 "nbformat": 4,
 "nbformat_minor": 2
}
