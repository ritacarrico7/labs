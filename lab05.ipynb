{
 "cells": [
  {
   "cell_type": "markdown",
   "metadata": {},
   "source": [
    "# Lab 5\n",
    "\n",
    "How to verify if a number is a possible credit card number?\n",
    "In order to verify the check digit is correct, verify the following steps:\n",
    "\n",
    "* Supose the following number=\"5105105105105100\".\n",
    "* Convert the number into a list\n",
    "* Reverse the List\n",
    "* Starting from the left digit, double every second digit.\n",
    "* If double of a digit is more than 9, add the digits.\n",
    "* Sum all the numbers except the first one multiply by 9 and remove the unit\n",
    "\n"
   ]
  },
  {
   "cell_type": "code",
   "execution_count": 7,
   "metadata": {},
   "outputs": [],
   "source": [
    "#Start by converting the number into a list\n",
    "number=5105105105105100"
   ]
  },
  {
   "cell_type": "code",
   "execution_count": 8,
   "metadata": {},
   "outputs": [
    {
     "name": "stdout",
     "output_type": "stream",
     "text": [
      "[5, 1, 0, 5, 1, 0, 5, 1, 0, 5, 1, 0, 5, 1, 0, 0]\n",
      "[0, 0, 1, 5, 0, 1, 5, 0, 1, 5, 0, 1, 5, 0, 1, 5]\n"
     ]
    }
   ],
   "source": [
    "#convert a number into a list\n",
    "digits=[int(x) for x in str(number)]\n",
    "print(digits)\n",
    "\n",
    "#reverse the list\n",
    "digits.reverse()\n",
    "print(digits)"
   ]
  },
  {
   "cell_type": "code",
   "execution_count": 9,
   "metadata": {},
   "outputs": [],
   "source": [
    "#Convert stings into integers\n"
   ]
  },
  {
   "cell_type": "code",
   "execution_count": 27,
   "metadata": {},
   "outputs": [
    {
     "name": "stdout",
     "output_type": "stream",
     "text": [
      "[0, 0, 1, 10, 0, 2, 5, 0, 1, 10, 0, 2, 5, 0, 1, 10]\n"
     ]
    }
   ],
   "source": [
    "# Starting from the left digit, double every second digit.\n",
    "\n",
    "newList=[]\n",
    "for i in range(len(digits)):\n",
    "    if i%2 == 0:\n",
    "        newList.append(digits[i])\n",
    "    else:\n",
    "        newList.append(2*digits[i])\n",
    "print(newList)\n"
   ]
  },
  {
   "cell_type": "code",
   "execution_count": 29,
   "metadata": {},
   "outputs": [
    {
     "name": "stdout",
     "output_type": "stream",
     "text": [
      "[0, 0, 1, 1, 0, 2, 5, 0, 1, 1, 0, 2, 5, 0, 1, 1]\n"
     ]
    }
   ],
   "source": [
    "# If double of a digit is more then 9, add the digits.\n",
    "\n",
    "newList2=[]\n",
    "for i in newList:\n",
    "    newList2.append(i%10+int(i/10))\n",
    "\n",
    "print(newList2)\n",
    "\n",
    "\n",
    "#or\n",
    "#for i in newList:\n",
    "   # if i>9:\n",
    "        #newList2.append(i%10+int(i/10))\n",
    "   # else:\n",
    "       #newList2.append (i)\n",
    "#print(newList2)\n"
   ]
  },
  {
   "cell_type": "code",
   "execution_count": 30,
   "metadata": {},
   "outputs": [
    {
     "name": "stdout",
     "output_type": "stream",
     "text": [
      "20\n"
     ]
    }
   ],
   "source": [
    "# Sum all the numbers except the first one\n",
    "\n",
    "sumList=sum(newList2)-newList2[0]\n",
    "print (sumList)"
   ]
  },
  {
   "cell_type": "code",
   "execution_count": 34,
   "metadata": {},
   "outputs": [
    {
     "name": "stdout",
     "output_type": "stream",
     "text": [
      "180\n"
     ]
    },
    {
     "data": {
      "text/plain": [
       "'0'"
      ]
     },
     "execution_count": 34,
     "metadata": {},
     "output_type": "execute_result"
    }
   ],
   "source": [
    "# multiply by 9 and remove the unit\n",
    "\n",
    "total=sumList*9\n",
    "print (total)\n",
    "\n",
    "lastunit=str(total) #or lastunit=[int(x)for x in str(total)]\n",
    "lastunit[-1]"
   ]
  },
  {
   "cell_type": "markdown",
   "metadata": {},
   "source": [
    "If the last number of variable numer is the same you reached, the check digit of the credit card is correct"
   ]
  }
 ],
 "metadata": {
  "kernelspec": {
   "display_name": "Python 3",
   "language": "python",
   "name": "python3"
  },
  "language_info": {
   "codemirror_mode": {
    "name": "ipython",
    "version": 3
   },
   "file_extension": ".py",
   "mimetype": "text/x-python",
   "name": "python",
   "nbconvert_exporter": "python",
   "pygments_lexer": "ipython3",
   "version": "3.7.3"
  }
 },
 "nbformat": 4,
 "nbformat_minor": 2
}
