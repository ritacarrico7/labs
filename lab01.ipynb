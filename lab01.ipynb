{
 "cells": [
  {
   "cell_type": "code",
   "execution_count": 1,
   "metadata": {},
   "outputs": [
    {
     "data": {
      "text/plain": [
       "False"
      ]
     },
     "execution_count": 1,
     "metadata": {},
     "output_type": "execute_result"
    }
   ],
   "source": [
    "#Verify if a value is integer\n",
    "\n",
    "n = 1.5\n",
    "n == int(n)"
   ]
  },
  {
   "cell_type": "code",
   "execution_count": 2,
   "metadata": {},
   "outputs": [
    {
     "data": {
      "text/plain": [
       "True"
      ]
     },
     "execution_count": 2,
     "metadata": {},
     "output_type": "execute_result"
    }
   ],
   "source": [
    "#Verify if a value is integer\n",
    "\n",
    "n = 5\n",
    "n == int(n)"
   ]
  },
  {
   "cell_type": "code",
   "execution_count": 18,
   "metadata": {},
   "outputs": [
    {
     "data": {
      "text/plain": [
       "True"
      ]
     },
     "execution_count": 18,
     "metadata": {},
     "output_type": "execute_result"
    }
   ],
   "source": [
    "#Verify if a value is even\n",
    "\n",
    "n = 6\n",
    "n % 2 == 0"
   ]
  },
  {
   "cell_type": "code",
   "execution_count": 26,
   "metadata": {},
   "outputs": [
    {
     "data": {
      "text/plain": [
       "True"
      ]
     },
     "execution_count": 26,
     "metadata": {},
     "output_type": "execute_result"
    }
   ],
   "source": [
    "#Insert two numbers. Is the first is bigger than the second?\n",
    "\n",
    "a = 11 ; b = 9\n",
    "a > b"
   ]
  },
  {
   "cell_type": "code",
   "execution_count": 29,
   "metadata": {},
   "outputs": [
    {
     "data": {
      "text/plain": [
       "False"
      ]
     },
     "execution_count": 29,
     "metadata": {},
     "output_type": "execute_result"
    }
   ],
   "source": [
    "#Verify if one value is multiple of another\n",
    "\n",
    "a = 30 ; b = 4\n",
    "value = a/b\n",
    "value == int(value)"
   ]
  },
  {
   "cell_type": "code",
   "execution_count": 30,
   "metadata": {},
   "outputs": [
    {
     "name": "stdout",
     "output_type": "stream",
     "text": [
      "18.0\n"
     ]
    }
   ],
   "source": [
    "#Calculate the interest earn by an investor that invested a capital of 200 during 3 years with an interest rate of 3%. (I=P*R*T)\n",
    "\n",
    "P = 200\n",
    "T= 3\n",
    "R = 0.03\n",
    "\n",
    "I = P*T*R\n",
    "print(I)"
   ]
  },
  {
   "cell_type": "code",
   "execution_count": 31,
   "metadata": {},
   "outputs": [
    {
     "name": "stdout",
     "output_type": "stream",
     "text": [
      "218.5454\n"
     ]
    }
   ],
   "source": [
    "#Capital that an investor obtained after investing a capital of 200 during 3 years with an interest rate of 3%. (Compound interest)\n",
    "\n",
    "P = 200\n",
    "T = 3\n",
    "R = 0.03\n",
    "\n",
    "I = P * ((1 + R) ** T)\n",
    "print(I)"
   ]
  },
  {
   "cell_type": "code",
   "execution_count": 32,
   "metadata": {},
   "outputs": [
    {
     "name": "stdout",
     "output_type": "stream",
     "text": [
      "22.145328719723185\n"
     ]
    }
   ],
   "source": [
    "#Calculate your BMI (Body Mass Index)\n",
    "\n",
    "mass = 64\n",
    "height = 1.70\n",
    "\n",
    "BMI = mass / (height ** 2)\n",
    "print(BMI)"
   ]
  },
  {
   "cell_type": "code",
   "execution_count": 39,
   "metadata": {},
   "outputs": [
    {
     "name": "stdout",
     "output_type": "stream",
     "text": [
      "1.618033988749895\n"
     ]
    }
   ],
   "source": [
    "#Calcule the Golden ration\n",
    "\n",
    "import math\n",
    "gr = (1 + (math.sqrt(5))) / 2\n",
    "\n",
    "print(gr)"
   ]
  },
  {
   "cell_type": "code",
   "execution_count": 35,
   "metadata": {},
   "outputs": [
    {
     "name": "stdout",
     "output_type": "stream",
     "text": [
      "3139.440301519393\n"
     ]
    }
   ],
   "source": [
    "#Calculate the NPV (Net present value) of an investment, considering an initial investment of 10000, the following Cashflows 2000,3000, 4000, 4000 and 5000 and a discount rate of 10%.\n",
    "\n",
    "I = 10000\n",
    "CF1 = 2000\n",
    "CF2 = 3000\n",
    "CF3 = 4000\n",
    "CF4 = 4000\n",
    "CF5 = 5000\n",
    "k = 0.1\n",
    "\n",
    "FV1 = CF1 / (1 + k)\n",
    "FV2 = CF2 / ((1 + k) ** 2)\n",
    "FV3 = CF3 / ((1 + k) ** 3)\n",
    "FV4 = CF4 / ((1 + k) ** 4)\n",
    "FV5 = CF5 / ((1 + k) ** 5)\n",
    "\n",
    "NPV = FV1 + FV2 + FV3 + FV4 + FV5 - I\n",
    "print(NPV)"
   ]
  },
  {
   "cell_type": "code",
   "execution_count": 43,
   "metadata": {},
   "outputs": [
    {
     "name": "stdout",
     "output_type": "stream",
     "text": [
      "What's your name? Mafalda\n",
      "How old are you? 20\n",
      "You were born in  1999\n"
     ]
    }
   ],
   "source": [
    "# Ask the user to insert name and age. Calculate the the birth. Print a result saying the 'this person was born in'\n",
    "\n",
    "name = input(\"What's your name? \")\n",
    "age = input(\"How old are you? \")\n",
    "\n",
    "birth = 2019 - int(age)\n",
    "\n",
    "print(\"You were born in \", birth)"
   ]
  },
  {
   "cell_type": "code",
   "execution_count": null,
   "metadata": {},
   "outputs": [],
   "source": [
    "#Ask the user to insert name and age. Calculate the birth. Print a result saying the 'this person was born in'\n",
    "\n",
    "from datetime import date\n",
    "today = date.today()\n",
    "today.year\n",
    "\n",
    "\n",
    "name = input(\"What's your name? \")\n",
    "age = input(\"How old are you? \")\n",
    "\n",
    "birth = today.year - int(age)\n",
    "\n",
    "print(\"You were born in \", birth)"
   ]
  },
  {
   "cell_type": "code",
   "execution_count": null,
   "metadata": {},
   "outputs": [],
   "source": [
    "#Ask the user to insert forenames, surnames. create a new variable (name) with your complete name\n",
    "\n",
    "firstName = input(\"What's your first name? \")\n",
    "forenames = input(\"What's your forenames? \")\n",
    "surname = input(\"What's your surname? \")\n",
    "\n",
    "completeName = firstName + \" \" + forenames + \" \" + surname\n",
    "print(\"Your complete name is: \", completeName)"
   ]
  },
  {
   "cell_type": "code",
   "execution_count": null,
   "metadata": {},
   "outputs": [],
   "source": []
  }
 ],
 "metadata": {
  "kernelspec": {
   "display_name": "Python 3",
   "language": "python",
   "name": "python3"
  },
  "language_info": {
   "codemirror_mode": {
    "name": "ipython",
    "version": 3
   },
   "file_extension": ".py",
   "mimetype": "text/x-python",
   "name": "python",
   "nbconvert_exporter": "python",
   "pygments_lexer": "ipython3",
   "version": "3.7.3"
  }
 },
 "nbformat": 4,
 "nbformat_minor": 2
}
