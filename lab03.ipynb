{
 "cells": [
  {
   "cell_type": "markdown",
   "metadata": {},
   "source": [
    "# Lab 3\n",
    "In the following cell cell you have several list. "
   ]
  },
  {
   "cell_type": "code",
   "execution_count": 15,
   "metadata": {},
   "outputs": [],
   "source": [
    "#list of 007 movies where Sean Connery features James Bond\n",
    "moviesSeanConnery = [\"Dr. No (1962)\", \"From Russia with Love (1963)\", \"Goldfinger (1964)\", \"Thunderball (1965)\",\n",
    "\"You Only Live Twice (1967)\", \"Diamonds Are Forever (1971)\",    \"Never Say Never Again (1983)\"]  \n",
    "\n",
    "#list of 007 movies where David Neven features James Bond\n",
    "moviesDavidNeven=[\"Casino Royale (1967)\"]    \n",
    "\n",
    "#list of 007 movies where George Lazenby features James Bond\n",
    "moviesGeorgeLazenby=[\"On Her Majesty's Secret Service (1969)\"]  \n",
    "          \n",
    "#list of 007 movies where Roger Moore features James Bond   \n",
    "moviesRogerMoore=[ \"Live and Let Die (1973)\", \"The Man with the Golden Gun (1974)\", \"The Spy Who Loved Me (1977)\", \n",
    "                  \"Moonraker (1979)\", \"For Your Eyes Only (1981)\", \"Octopussy (1983)\", \"A View to a Kill (1985)\"]\n",
    "\n",
    "#list of 007 movies where Timothy Dalton features James Bond  \n",
    "moviesTimothyDalton=[\"The Living Daylights (1987)\", \"Licence to Kill (1989)\"]\n",
    "\n",
    "#list of 007 movies where Pierce Brosnan features James Bond  \n",
    "moviesPierceBrosnan=[\"GoldenEye (1995)\",\"Tomorrow Never Dies (1997)\",\"The World Is Not Enough (1999)\",\"Die Another Day (2002)\"]\n",
    "\n",
    "#list of 007 movies where Daniel Craig features James Bond \n",
    "moviesDanielCraig=[\"Casino Royale (2006)\",\"Quantum of Solace (2008)\",\"Skyfall (2012)\",\"Spectre (2015)\"]\n"
   ]
  },
  {
   "cell_type": "markdown",
   "metadata": {},
   "source": [
    "**1)** create a list of lists (movies007). The list will be composed by each list of movies featured by each actor."
   ]
  },
  {
   "cell_type": "code",
   "execution_count": 16,
   "metadata": {},
   "outputs": [
    {
     "name": "stdout",
     "output_type": "stream",
     "text": [
      "[['Dr. No (1962)', 'From Russia with Love (1963)', 'Goldfinger (1964)', 'Thunderball (1965)', 'You Only Live Twice (1967)', 'Diamonds Are Forever (1971)', 'Never Say Never Again (1983)'], ['Casino Royale (1967)'], [\"On Her Majesty's Secret Service (1969)\"], ['Live and Let Die (1973)', 'The Man with the Golden Gun (1974)', 'The Spy Who Loved Me (1977)', 'Moonraker (1979)', 'For Your Eyes Only (1981)', 'Octopussy (1983)', 'A View to a Kill (1985)'], ['The Living Daylights (1987)', 'Licence to Kill (1989)'], ['GoldenEye (1995)', 'Tomorrow Never Dies (1997)', 'The World Is Not Enough (1999)', 'Die Another Day (2002)'], ['Casino Royale (2006)', 'Quantum of Solace (2008)', 'Skyfall (2012)', 'Spectre (2015)']]\n"
     ]
    }
   ],
   "source": [
    "movies007=[]\n",
    "\n",
    "moviesSeanConnery = [\"Dr. No (1962)\", \"From Russia with Love (1963)\", \"Goldfinger (1964)\",\"Thunderball (1965)\",\n",
    "                     \"You Only Live Twice (1967)\", \"Diamonds Are Forever (1971)\", \"Never Say Never Again (1983)\"] \n",
    "moviesDavidNeven=[\"Casino Royale (1967)\"]\n",
    "moviesGeorgeLazenby=[\"On Her Majesty's Secret Service (1969)\"] \n",
    "moviesRogerMoore=[ \"Live and Let Die (1973)\", \"The Man with the Golden Gun (1974)\", \"The Spy Who Loved Me (1977)\",\n",
    "                  \"Moonraker (1979)\", \"For Your Eyes Only (1981)\", \"Octopussy (1983)\", \"A View to a Kill (1985)\"]\n",
    "moviesTimothyDalton=[\"The Living Daylights (1987)\", \"Licence to Kill (1989)\"]\n",
    "moviesPierceBrosnan=[\"GoldenEye (1995)\",\"Tomorrow Never Dies (1997)\", \"The World Is Not Enough (1999)\",\n",
    "                     \"Die Another Day (2002)\"]\n",
    "moviesDanielCraig=[\"Casino Royale (2006)\", \"Quantum of Solace (2008)\",\"Skyfall (2012)\", \"Spectre (2015)\"]\n",
    "\n",
    "movies007.append(moviesSeanConnery)\n",
    "movies007.append(moviesDavidNeven)\n",
    "movies007.append(moviesGeorgeLazenby)\n",
    "movies007.append(moviesRogerMoore)\n",
    "movies007.append(moviesTimothyDalton)\n",
    "movies007.append(moviesPierceBrosnan)\n",
    "movies007.append(moviesDanielCraig)\n",
    "\n",
    "print (movies007)"
   ]
  },
  {
   "cell_type": "code",
   "execution_count": null,
   "metadata": {},
   "outputs": [],
   "source": []
  },
  {
   "cell_type": "markdown",
   "metadata": {},
   "source": [
    "**2)** How many movies were played by the first actor to play James Bond?"
   ]
  },
  {
   "cell_type": "code",
   "execution_count": 17,
   "metadata": {},
   "outputs": [
    {
     "data": {
      "text/plain": [
       "7"
      ]
     },
     "execution_count": 17,
     "metadata": {},
     "output_type": "execute_result"
    }
   ],
   "source": [
    "len(moviesSeanConnery)"
   ]
  },
  {
   "cell_type": "code",
   "execution_count": null,
   "metadata": {},
   "outputs": [],
   "source": [
    "\n"
   ]
  },
  {
   "cell_type": "markdown",
   "metadata": {},
   "source": [
    "**3)** How many movies were played by the last actor to play James Bond?"
   ]
  },
  {
   "cell_type": "code",
   "execution_count": 18,
   "metadata": {},
   "outputs": [
    {
     "data": {
      "text/plain": [
       "4"
      ]
     },
     "execution_count": 18,
     "metadata": {},
     "output_type": "execute_result"
    }
   ],
   "source": [
    "len(moviesDanielCraig)"
   ]
  },
  {
   "cell_type": "code",
   "execution_count": null,
   "metadata": {},
   "outputs": [],
   "source": []
  },
  {
   "cell_type": "markdown",
   "metadata": {},
   "source": [
    "**4)** How many actors played the role of James Bond?"
   ]
  },
  {
   "cell_type": "code",
   "execution_count": 21,
   "metadata": {},
   "outputs": [
    {
     "data": {
      "text/plain": [
       "7"
      ]
     },
     "execution_count": 21,
     "metadata": {},
     "output_type": "execute_result"
    }
   ],
   "source": [
    "movies007=[]\n",
    "\n",
    "moviesSeanConnery = [\"Dr. No (1962)\", \"From Russia with Love (1963)\", \"Goldfinger (1964)\",\"Thunderball (1965)\",\n",
    "                     \"You Only Live Twice (1967)\", \"Diamonds Are Forever (1971)\", \"Never Say Never Again (1983)\"] \n",
    "moviesDavidNeven=[\"Casino Royale (1967)\"]\n",
    "moviesGeorgeLazenby=[\"On Her Majesty's Secret Service (1969)\"] \n",
    "moviesRogerMoore=[ \"Live and Let Die (1973)\", \"The Man with the Golden Gun (1974)\", \"The Spy Who Loved Me (1977)\",\n",
    "                  \"Moonraker (1979)\", \"For Your Eyes Only (1981)\", \"Octopussy (1983)\", \"A View to a Kill (1985)\"]\n",
    "moviesTimothyDalton=[\"The Living Daylights (1987)\", \"Licence to Kill (1989)\"]\n",
    "moviesPierceBrosnan=[\"GoldenEye (1995)\",\"Tomorrow Never Dies (1997)\", \"The World Is Not Enough (1999)\",\n",
    "                     \"Die Another Day (2002)\"]\n",
    "moviesDanielCraig=[\"Casino Royale (2006)\", \"Quantum of Solace (2008)\",\"Skyfall (2012)\", \"Spectre (2015)\"]\n",
    "\n",
    "movies007.append(moviesSeanConnery)\n",
    "movies007.append(moviesDavidNeven)\n",
    "movies007.append(moviesGeorgeLazenby)\n",
    "movies007.append(moviesRogerMoore)\n",
    "movies007.append(moviesTimothyDalton)\n",
    "movies007.append(moviesPierceBrosnan)\n",
    "movies007.append(moviesDanielCraig)\n",
    "\n",
    "len(movies007)"
   ]
  },
  {
   "cell_type": "markdown",
   "metadata": {},
   "source": [
    "**5)**  Create a new list with the number of movies played by each actor"
   ]
  },
  {
   "cell_type": "code",
   "execution_count": null,
   "metadata": {},
   "outputs": [],
   "source": []
  },
  {
   "cell_type": "code",
   "execution_count": null,
   "metadata": {},
   "outputs": [],
   "source": []
  },
  {
   "cell_type": "code",
   "execution_count": null,
   "metadata": {},
   "outputs": [],
   "source": []
  },
  {
   "cell_type": "code",
   "execution_count": null,
   "metadata": {},
   "outputs": [],
   "source": []
  },
  {
   "cell_type": "markdown",
   "metadata": {},
   "source": [
    "**6)**  How many movies were played by the actor who appeared most often in movies?"
   ]
  },
  {
   "cell_type": "code",
   "execution_count": null,
   "metadata": {},
   "outputs": [],
   "source": []
  },
  {
   "cell_type": "markdown",
   "metadata": {},
   "source": [
    "**7)**  How many movies were played by the actor who appeared in fewer movies?"
   ]
  },
  {
   "cell_type": "code",
   "execution_count": null,
   "metadata": {},
   "outputs": [],
   "source": []
  },
  {
   "cell_type": "markdown",
   "metadata": {},
   "source": [
    "**8)**  Create a new list (movies007a) with all the films. "
   ]
  },
  {
   "cell_type": "code",
   "execution_count": null,
   "metadata": {},
   "outputs": [],
   "source": []
  },
  {
   "cell_type": "code",
   "execution_count": null,
   "metadata": {},
   "outputs": [],
   "source": []
  },
  {
   "cell_type": "markdown",
   "metadata": {},
   "source": [
    "**9)** Sort the elements of the list "
   ]
  },
  {
   "cell_type": "code",
   "execution_count": null,
   "metadata": {},
   "outputs": [],
   "source": []
  },
  {
   "cell_type": "code",
   "execution_count": null,
   "metadata": {},
   "outputs": [],
   "source": []
  },
  {
   "cell_type": "markdown",
   "metadata": {},
   "source": [
    "**9)** Reverse the order of the list. What will happen if this method is executed twice? Does this method sort the list if it is not sorted?"
   ]
  },
  {
   "cell_type": "code",
   "execution_count": null,
   "metadata": {},
   "outputs": [],
   "source": []
  },
  {
   "cell_type": "code",
   "execution_count": null,
   "metadata": {},
   "outputs": [],
   "source": []
  },
  {
   "cell_type": "markdown",
   "metadata": {},
   "source": [
    "**10)** What is the index of the movie \"Spectre (2015)\" in the list of movies"
   ]
  },
  {
   "cell_type": "code",
   "execution_count": null,
   "metadata": {},
   "outputs": [],
   "source": []
  },
  {
   "cell_type": "markdown",
   "metadata": {},
   "source": [
    "**11)** Add the movie \"007 and the bad Guy of the climate change (2020)\" in the 11th position."
   ]
  },
  {
   "cell_type": "code",
   "execution_count": null,
   "metadata": {},
   "outputs": [],
   "source": []
  },
  {
   "cell_type": "code",
   "execution_count": null,
   "metadata": {},
   "outputs": [],
   "source": []
  },
  {
   "cell_type": "markdown",
   "metadata": {},
   "source": [
    "**12)** It was a mistake. Remove the movie \"007 and the bad Guy of the climate change (2020)\""
   ]
  },
  {
   "cell_type": "code",
   "execution_count": null,
   "metadata": {},
   "outputs": [],
   "source": []
  },
  {
   "cell_type": "code",
   "execution_count": null,
   "metadata": {},
   "outputs": [],
   "source": []
  }
 ],
 "metadata": {
  "kernelspec": {
   "display_name": "Python 3",
   "language": "python",
   "name": "python3"
  },
  "language_info": {
   "codemirror_mode": {
    "name": "ipython",
    "version": 3
   },
   "file_extension": ".py",
   "mimetype": "text/x-python",
   "name": "python",
   "nbconvert_exporter": "python",
   "pygments_lexer": "ipython3",
   "version": "3.7.3"
  }
 },
 "nbformat": 4,
 "nbformat_minor": 2
}
